{
 "cells": [
  {
   "cell_type": "code",
   "execution_count": 1,
   "metadata": {},
   "outputs": [],
   "source": [
    "import numpy as np\n",
    "import pandas as pd"
   ]
  },
  {
   "cell_type": "markdown",
   "metadata": {},
   "source": [
    "# Load data"
   ]
  },
  {
   "cell_type": "code",
   "execution_count": 2,
   "metadata": {},
   "outputs": [],
   "source": [
    "doc_word = np.load('science2k-doc-word.npy')\n",
    "titles = pd.read_csv('science2k-titles.txt', encoding='utf-8', header=None, names=['titles'])\n",
    "vocab = pd.read_csv('science2k-vocab.txt', encoding='utf-8', header=None, names=['vocab'])"
   ]
  },
  {
   "cell_type": "markdown",
   "metadata": {},
   "source": [
    "# (a) doc-word"
   ]
  },
  {
   "cell_type": "code",
   "execution_count": 3,
   "metadata": {},
   "outputs": [],
   "source": [
    "from sklearn.cluster import KMeans\n",
    "from scipy.spatial.distance import cdist\n",
    "import seaborn as sns\n",
    "sns.set(style='darkgrid')"
   ]
  },
  {
   "cell_type": "markdown",
   "metadata": {},
   "source": [
    "## Use Elbow method to find best K"
   ]
  },
  {
   "cell_type": "code",
   "execution_count": 219,
   "metadata": {},
   "outputs": [],
   "source": [
    "# reference: https://pythonprogramminglanguage.com/kmeans-elbow-method/\n",
    "\n",
    "def distortion(X, cluster_centers):\n",
    "    return sum(np.min(cdist(X, cluster_centers, 'euclidean'), axis=1)) / X.shape[0]\n",
    "k_range = range(2, 21)\n",
    "scores = [distortion(doc_word, KMeans(n_clusters=k, n_init=20, n_jobs=-1).fit(doc_word).cluster_centers_) for k in k_range]"
   ]
  },
  {
   "cell_type": "code",
   "execution_count": 220,
   "metadata": {},
   "outputs": [
    {
     "data": {
      "text/plain": [
       "<matplotlib.axes._subplots.AxesSubplot at 0x1a2adca610>"
      ]
     },
     "execution_count": 220,
     "metadata": {},
     "output_type": "execute_result"
    },
    {
     "data": {
      "image/png": "[encoded data removed]",
      "text/plain": [
       "<Figure size 432x288 with 1 Axes>"
      ]
     },
     "metadata": {
      "needs_background": "light"
     },
     "output_type": "display_data"
    }
   ],
   "source": [
    "sns.pointplot(x='k', y='score', data=pd.DataFrame({'k': k_range, 'score': scores}), markers='o')"
   ]
  },
  {
   "cell_type": "markdown",
   "metadata": {},
   "source": [
    "The figure shows that 8 may be the best k."
   ]
  },
  {
   "cell_type": "code",
   "execution_count": 233,
   "metadata": {},
   "outputs": [],
   "source": [
    "kmeans_k = 8\n",
    "kmeans = KMeans(n_clusters=kmeans_k, n_init=20, n_jobs=-1)\n",
    "titles['kmeans_label'] = kmeans.fit_predict(doc_word)"
   ]
  },
  {
   "cell_type": "code",
   "execution_count": 234,
   "metadata": {},
   "outputs": [
    {
     "name": "stdout",
     "output_type": "stream",
     "text": [
      "6    431\n",
      "4    205\n",
      "2    181\n",
      "1    156\n",
      "3    155\n",
      "7    144\n",
      "5     71\n",
      "0     30\n",
      "Name: kmeans_label, dtype: int64\n"
     ]
    }
   ],
   "source": [
    "print titles['kmeans_label'].value_counts()"
   ]
  },
  {
   "cell_type": "code",
   "execution_count": 235,
   "metadata": {},
   "outputs": [],
   "source": [
    "vector_mean = doc_word.mean(axis=0)"
   ]
  },
  {
   "cell_type": "markdown",
   "metadata": {},
   "source": [
    "## Top 10 words in each cluster"
   ]
  },
  {
   "cell_type": "code",
   "execution_count": 236,
   "metadata": {
    "scrolled": true
   },
   "outputs": [
    {
     "name": "stdout",
     "output_type": "stream",
     "text": [
      "cluster 0:\n",
      "residues\n",
      "crystal\n",
      "binding\n",
      "conserved\n",
      "side\n",
      "helix\n",
      "loop\n",
      "chains\n",
      "residue\n",
      "structural\n",
      "\n",
      "cluster 1:\n",
      "says\n",
      "researchers\n",
      "fig\n",
      "scientists\n",
      "year\n",
      "just\n",
      "get\n",
      "people\n",
      "last\n",
      "usa\n",
      "\n",
      "cluster 2:\n",
      "protein\n",
      "gene\n",
      "proteins\n",
      "cell\n",
      "sequence\n",
      "genes\n",
      "dna\n",
      "cells\n",
      "amino\n",
      "sequences\n",
      "\n",
      "cluster 3:\n",
      "cells\n",
      "expression\n",
      "cell\n",
      "protein\n",
      "mice\n",
      "expressed\n",
      "antibody\n",
      "mouse\n",
      "induced\n",
      "expressing\n",
      "\n",
      "cluster 4:\n",
      "energy\n",
      "electron\n",
      "fig\n",
      "density\n",
      "shows\n",
      "temperature\n",
      "structure\n",
      "human\n",
      "measured\n",
      "constant\n",
      "\n",
      "cluster 5:\n",
      "responses\n",
      "response\n",
      "neurons\n",
      "stimuli\n",
      "visual\n",
      "significant\n",
      "stimulus\n",
      "fig\n",
      "test\n",
      "cortex\n",
      "\n",
      "cluster 6:\n",
      "fig\n",
      "mail\n",
      "shown\n",
      "reports\n",
      "observed\n",
      "function\n",
      "correspondence\n",
      "start\n",
      "analysis\n",
      "addressed\n",
      "\n",
      "cluster 7:\n",
      "values\n",
      "global\n",
      "north\n",
      "estimates\n",
      "estimate\n",
      "surface\n",
      "years\n",
      "variations\n",
      "lower\n",
      "period\n",
      "\n"
     ]
    }
   ],
   "source": [
    "for i in range(kmeans_k):\n",
    "    word_dis = abs(kmeans.cluster_centers_[i] - vector_mean)\n",
    "    sorted_args = word_dis.argsort()[::-1]\n",
    "    top_10_args = sorted_args[:10]\n",
    "    top_10_words = vocab['vocab'][top_10_args].values.tolist()\n",
    "    print 'cluster %d:' % i\n",
    "    print '\\n'.join(top_10_words)\n",
    "    print ''"
   ]
  },
  {
   "cell_type": "markdown",
   "metadata": {},
   "source": [
    "## Top 10 documents closest to each cluster center"
   ]
  },
  {
   "cell_type": "code",
   "execution_count": 237,
   "metadata": {},
   "outputs": [],
   "source": [
    "grouped_titles = titles.groupby('kmeans_label')"
   ]
  },
  {
   "cell_type": "code",
   "execution_count": 238,
   "metadata": {},
   "outputs": [
    {
     "name": "stderr",
     "output_type": "stream",
     "text": [
      "/anaconda2/lib/python2.7/site-packages/ipykernel_launcher.py:3: SettingWithCopyWarning: \n",
      "A value is trying to be set on a copy of a slice from a DataFrame.\n",
      "Try using .loc[row_indexer,col_indexer] = value instead\n",
      "\n",
      "See the caveats in the documentation: http://pandas.pydata.org/pandas-docs/stable/indexing.html#indexing-view-versus-copy\n",
      "  This is separate from the ipykernel package so we can avoid doing imports until\n"
     ]
    },
    {
     "name": "stdout",
     "output_type": "stream",
     "text": [
      "cluster 0:\n",
      "Structure of Yeast Poly(A) Polymerase Alone and in Complex with 3'-dATP\n",
      "Structure of Murine CTLA-4 and Its Role in Modulating T Cell Responsiveness\n",
      "Structure of the S15,S6,S18-rRNA Complex: Assembly of the 30S Ribosome Central Domain\n",
      "Atomic Structure of PDE4: Insights into Phosphodiesterase Mechanism and Specificity\n",
      "Twists in Catalysis: Alternating Conformations of Escherichia coli Thioredoxin Reductase\n",
      "The Productive Conformation of Arachidonic Acid Bound to Prostaglandin Synthase\n",
      "Redox Signaling in Chloroplasts: Cleavage of Disulfides by an Iron-Sulfur Cluster\n",
      "Convergent Solutions to Binding at a Protein-Protein Interface\n",
      "Structural Basis of Smad2 Recognition by the Smad Anchor for Receptor Activation\n",
      "Structure of the Protease Domain of Memapsin 2 (b-Secretase) Complexed with Inhibitor\n",
      "\n",
      "cluster 1:\n",
      "Information Technology Takes a Different Tack\n",
      "Science Survives in Breakthrough States\n",
      "Vaccine Studies Stymied by Shortage of Animals\n",
      "For 'Father' of Abortion Drug, Vindication at Last\n",
      "On a Slippery Slope to Mediocrity?\n",
      "In Europe, Hooligans Are Prime Subjects for Research\n",
      "Japan's Whaling Program Carries Heavy Baggage\n",
      "Is AIDS in Africa a Distinct Disease?\n",
      "New Science Chief Must Juggle Missions and Politics\n",
      "Building a Disease-Fighting Mosquito\n",
      "\n",
      "cluster 2:\n",
      "Requirement of NAD and SIR2 for Life-Span Extension by Calorie Restriction in Saccharomyces Cerevisiae\n",
      "Suppression of Mutations in Mitochondrial DNA by tRNAs Imported from the Cytoplasm\n",
      "Distinct Classes of Yeast Promoters Revealed by Differential TAF Recruitment\n",
      "Ubiquitination: More Than Two to Tango\n",
      "Efficient Initiation of HCV RNA Replication in Cell Culture\n",
      "New Insights into an Old Modification\n",
      "Negative Regulation of the SHATTERPROOF Genes by FRUITFULL during Arabidopsis Fruit Development\n",
      "Reading the Worm Genome\n",
      "Active Remodeling of Somatic Nuclei in Egg Cytoplasm by the Nucleosomal ATPase ISWI\n",
      "Cloning and Heterologous Expression of the Epothilone Gene Cluster\n",
      "\n",
      "cluster 3:\n",
      "T Cell-Independent Rescue of B Lymphocytes from Peripheral Immune Tolerance\n",
      "Reduced Food Intake and Body Weight in Mice Treated with Fatty Acid Synthase Inhibitors\n",
      "Coupling of Stress in the ER to Activation of JNK Protein Kinases by Transmembrane Protein Kinase IRE1\n",
      "Patterning of the Zebrafish Retina by a Wave of Sonic Hedgehog Activity\n",
      "An Anti-Apoptotic Role for the p53 Family Member, p73, during Developmental Neuron Death\n",
      "Impaired Prion Replication in Spleens of Mice Lacking Functional Follicular Dendritic Cells\n",
      "Requirement of the RNA Editing Deaminase ADAR1 Gene for Embryonic Erythropoiesis\n",
      "CD95/CD95 Ligand Interactions on Epithelial Cells in Host Defense to Pseudomonas aeruginosa\n",
      "Severely Reduced Female Fertility in CD9-Deficient Mice\n",
      "Regulation of B Lymphocyte and Macrophage Development by Graded Expression of PU.1\n",
      "\n",
      "cluster 4:\n",
      "Ambipolar Pentacene Field-Effect Transistors and Inverters\n",
      "A Stable Bicyclic Compound with Two Si=Si Double Bonds\n",
      "A Cyclic Carbanionic Valence Isomer of a Carbocation: Diphosphino Analogs of Diaminocarbocations\n",
      "Graphical Evolution of the Arnold Web: From Order to Chaos\n",
      "High-Gain Harmonic-Generation Free-Electron Laser\n",
      "Prospects for the Polymer Nanoengineer\n",
      "Viscosity Mechanisms in Accretion Disks\n",
      "Mechanisms of Ordering in Striped Patterns\n",
      "Anomalous Polarization Profiles in Sunspots: Possible Origin of Umbral Flashes\n",
      "A Light-Emitting Field-Effect Transistor\n",
      "\n",
      "cluster 5:\n",
      "Cholinergic Synaptic Inhibition of Inner Hair Cells in the Neonatal Mammalian Cochlea\n",
      "Selectivity for 3D Shape That Reveals Distinct Areas within Macaque Inferior Temporal Cortex\n",
      "Mirror-Image Confusion in Single Neurons of the Macaque Inferotemporal Cortex\n",
      "Abolition and Reversal of Strain Differences in Behavioral Responses to Drugs of Abuse after a Brief Experience\n",
      "Reversal of Antipsychotic-Induced Working Memory Deficits by Short-Term Dopamine D1 Receptor Stimulation\n",
      "Language Discrimination by Human Newborns and by Cotton-Top Tamarin Monkeys\n",
      "Modulation of Human Visual Cortex by Crossmodal Spatial Attention\n",
      "Necessity for Afferent Activity to Maintain Eye-Specific Segregation in Ferret Lateral Geniculate Nucleus\n",
      "Control of SIV Rebound through Structured Treatment Interruptions during Early Infection\n",
      "Evidence for Brainstem Structures Participating in Oculomotor Integration\n",
      "\n",
      "cluster 6:\n",
      "Algorithmic Gladiators Vie for Digital Glory\n",
      "Reopening the Darkest Chapter in German Science\n",
      "National Academy of Sciences Elects New Members\n",
      "Corrections and Clarifications: Unearthing Monuments of the Yarmukians\n",
      "Corrections and Clarifications: Charon's First Detailed Spectra Hold Many Surprises\n",
      "Corrections and Clarifications: A Short Fe-Fe Distance in Peroxodiferric Ferritin: Control of Fe Substrate versus Cofactor Decay?\n",
      "Heretical Idea Faces Its Sternest Test\n",
      "Archaeology in the Holy Land\n",
      "Corrections and Clarifications: Uninterrupted MCM2-7 Function Required for DNA Replication Fork Progression\n",
      "Corrections and Clarifications: A Nuclear Solution to Climatic Change?\n",
      "\n",
      "cluster 7:\n",
      "Reconstruction of the Amazon Basin Effective Moisture Availability over the past 14,000 Years\n",
      "Greenland Ice Sheet: High-Elevation Balance and Peripheral Thinning\n",
      "Isotopic Evidence for Variations in the Marine Calcium Cycle over the Cenozoic\n",
      "Mass Balance of the Greenland Ice Sheet at High Elevations\n",
      "Rapid Kimberlite Ascent and the Significance of Ar-Ar Ages in Xenolith Phlogopites\n",
      "Glacial Climate Instability\n",
      "The Role of the Southern Ocean in Uptake and Storage of Anthropogenic Carbon Dioxide\n",
      "Remobilization in the Cratonic Lithosphere Recorded in Polycrystalline Diamond\n",
      "Accretion of Primitive Planetesimals: Hf-W Isotopic Evidence from Enstatite Chondrites\n",
      "Temporal Trends in Deep Ocean Redfield Ratios\n",
      "\n"
     ]
    }
   ],
   "source": [
    "for i in range(kmeans_k):\n",
    "    cur_group = grouped_titles.get_group(i)\n",
    "    cur_group['distance'] = cur_group.apply(lambda row: np.linalg.norm(doc_word[row.name] - kmeans.cluster_centers_[i]), axis=1)\n",
    "    sorted_args = np.array(cur_group['distance'].values.tolist()).argsort()\n",
    "    print 'cluster %d:' % i\n",
    "    print '\\n'.join(cur_group.iloc[sorted_args[:10]]['titles'].tolist())\n",
    "    print ''"
   ]
  },
  {
   "cell_type": "markdown",
   "metadata": {},
   "source": [
    "# (b) word-doc"
   ]
  },
  {
   "cell_type": "code",
   "execution_count": 239,
   "metadata": {},
   "outputs": [],
   "source": [
    "word_doc = np.load('science2k-word-doc.npy')"
   ]
  },
  {
   "cell_type": "markdown",
   "metadata": {},
   "source": [
    "## Use Elbow method to find best K"
   ]
  },
  {
   "cell_type": "code",
   "execution_count": 261,
   "metadata": {},
   "outputs": [],
   "source": [
    "# reference: https://pythonprogramminglanguage.com/kmeans-elbow-method/\n",
    "\n",
    "k_range = range(2, 21)\n",
    "scores = [distortion(word_doc, KMeans(n_clusters=k, n_init=20, n_jobs=-1).fit(word_doc).cluster_centers_) for k in k_range]"
   ]
  },
  {
   "cell_type": "code",
   "execution_count": 262,
   "metadata": {},
   "outputs": [
    {
     "data": {
      "text/plain": [
       "<matplotlib.axes._subplots.AxesSubplot at 0x1a2b1badd0>"
      ]
     },
     "execution_count": 262,
     "metadata": {},
     "output_type": "execute_result"
    },
    {
     "data": {
      "image/png": "[encoded data removed]",
      "text/plain": [
       "<Figure size 432x288 with 1 Axes>"
      ]
     },
     "metadata": {
      "needs_background": "light"
     },
     "output_type": "display_data"
    }
   ],
   "source": [
    "sns.pointplot(x='k', y='score', data=pd.DataFrame({'k': k_range, 'score': scores}), markers='o')"
   ]
  },
  {
   "cell_type": "markdown",
   "metadata": {},
   "source": [
    "The figure shows that 9 may be the best k."
   ]
  },
  {
   "cell_type": "code",
   "execution_count": 277,
   "metadata": {},
   "outputs": [],
   "source": [
    "kmeans_k = 9\n",
    "kmeans = KMeans(n_clusters=kmeans_k, n_init=20, n_jobs=-1)\n",
    "vocab['kmeans_label'] = kmeans.fit_predict(word_doc)"
   ]
  },
  {
   "cell_type": "code",
   "execution_count": 278,
   "metadata": {},
   "outputs": [
    {
     "name": "stdout",
     "output_type": "stream",
     "text": [
      "6    2708\n",
      "4     770\n",
      "3     558\n",
      "2     512\n",
      "1     270\n",
      "7     249\n",
      "8     167\n",
      "5     138\n",
      "0     104\n",
      "Name: kmeans_label, dtype: int64\n"
     ]
    }
   ],
   "source": [
    "print vocab['kmeans_label'].value_counts()"
   ]
  },
  {
   "cell_type": "code",
   "execution_count": 280,
   "metadata": {},
   "outputs": [],
   "source": [
    "vector_mean = word_doc.mean(axis=0)"
   ]
  },
  {
   "cell_type": "markdown",
   "metadata": {},
   "source": [
    "## Top 10 titles in each cluster"
   ]
  },
  {
   "cell_type": "code",
   "execution_count": 281,
   "metadata": {},
   "outputs": [
    {
     "name": "stdout",
     "output_type": "stream",
     "text": [
      "cluster 0:\n",
      "Regulated Cleavage of a Contact-Mediated Axon Repellent\n",
      "Noxa, a BH3-Only Member of the Bcl-2 Family and Candidate Mediator of p53-Induced Apoptosis\n",
      "Positional Syntenic Cloning and Functional Characterization of the Mammalian Circadian Mutation tau\n",
      "Signaling and Circuitry of Multiple MAPK Pathways Revealed by a Matrix of Global Gene Expression Profiles\n",
      "Interacting Molecular Loops in the Mammalian Circadian Clock\n",
      "Cross Talk between Interferon-g and -a/b Signaling Components in Caveolar Membrane Domains\n",
      "Regulation of STAT3 by Direct Binding to the Rac1 GTPase\n",
      "Function of PI3Kg in Thymocyte Development, T Cell Activation, and Neutrophil Migration\n",
      "Central Role for G Protein-Coupled Phosphoinositide 3-Kinase g in Inflammation\n",
      "Protein Interaction Mapping in C. elegans Using Proteins Involved in Vulval Development\n",
      "\n",
      "cluster 1:\n",
      "Status and Improvements of Coupled General Circulation Models\n",
      "Sedimentary Rocks of Early Mars\n",
      "Climate Extremes: Observations, Modeling, and Impacts\n",
      "A 22,000-Year Record of Monsoonal Precipitation from Northern Chile's Atacama Desert\n",
      "Internal Structure and Early Thermal Evolution of Mars from Mars Global Surveyor Topography and Gravity\n",
      "Coherent High- and Low-Latitude Climate Variability during the Holocene Warm Period\n",
      "Rapid Changes in the Hydrologic Cycle of the Tropical Atlantic during the Last Glacial\n",
      "Climate Impact of Late Quaternary Equatorial Pacific Sea Surface Temperature Variations\n",
      "The Global Carbon Cycle: A Test of Our Knowledge of Earth as a System\n",
      "Causes of Climate Change over the past 1000 Years\n",
      "\n",
      "cluster 2:\n",
      "Advances in the Physics of High-Temperature Superconductivity\n",
      "Quantum Criticality: Competing Ground States in Low Dimensions\n",
      "The Atom-Cavity Microscope: Single Atoms Bound in Orbit by Single Photons\n",
      "Orbital Physics in Transition-Metal Oxides\n",
      "Negative Poisson's Ratios for Extreme States of Matter\n",
      "Generating Solitons by Phase Engineering of a Bose-Einstein Condensate\n",
      "Self-Mode-Locking of Quantum Cascade Lasers with Giant Ultrafast Optical Nonlinearities\n",
      "NEAR at Eros: Imaging and Spectral Results\n",
      "Blue-Fluorescent Antibodies\n",
      "The Galactic Center: An Interacting System of Unusual Sources\n",
      "\n",
      "cluster 3:\n",
      "Positional Syntenic Cloning and Functional Characterization of the Mammalian Circadian Mutation tau\n",
      "The Genome Sequence of Drosophila melanogaster\n",
      "Kinesin Superfamily Motor Protein KIF17 and mLin-10 in NMDA Receptor-Containing Vesicle Transport\n",
      "Noxa, a BH3-Only Member of the Bcl-2 Family and Candidate Mediator of p53-Induced Apoptosis\n",
      "Crystal Structure of the Ribonucleoprotein Core of the Signal Recognition Particle\n",
      "Pol k: A DNA Polymerase Required for Sister Chromatid Cohesion\n",
      "Integration of Multiple Signals through Cooperative Regulation of the N-WASP-Arp2/3 Complex\n",
      "Role of the Mouse ank Gene in Control of Tissue Calcification and Arthritis\n",
      "Regulated Cleavage of a Contact-Mediated Axon Repellent\n",
      "Comparative Genomics of the Eukaryotes\n",
      "\n",
      "cluster 4:\n",
      "A Mouse Chronology\n",
      "Meltdown on Long Island\n",
      "Presidential Forum: Gore and Bush Offer Their Views on Science\n",
      "Silent No Longer: 'Model Minority' Mobilizes\n",
      "Atom-Scale Research Gets Real\n",
      "The Rise of the Mouse, Biomedicine's Model Mammal\n",
      "Ecologists on a Mission to Save the World\n",
      "Infectious History\n",
      "Help Needed to Rebuild Science in Yugoslavia\n",
      "I'd like to See America Used as a Global Lab\n",
      "\n",
      "cluster 5:\n",
      "NEAR at Eros: Imaging and Spectral Results\n",
      "Reduction of Tropical Cloudiness by Soot\n",
      "The Atom-Cavity Microscope: Single Atoms Bound in Orbit by Single Photons\n",
      "Rocks from the Mantle Transition Zone: Majorite-Bearing Xenoliths from Malaita, Southwest Pacific\n",
      "Climate Impact of Late Quaternary Equatorial Pacific Sea Surface Temperature Variations\n",
      "Climate Extremes: Observations, Modeling, and Impacts\n",
      "Causes of Climate Change over the past 1000 Years\n",
      "Experiments and Simulations of Ion-Enhanced Interfacial Chemistry on Aqueous NaCl Aerosols\n",
      "Advances in the Physics of High-Temperature Superconductivity\n",
      "Internal Structure and Early Thermal Evolution of Mars from Mars Global Surveyor Topography and Gravity\n",
      "\n",
      "cluster 6:\n",
      "A Mouse Chronology\n",
      "Atom-Scale Research Gets Real\n",
      "The Genome Sequence of Drosophila melanogaster\n",
      "Breakthrough of the Year: Genomics Comes of Age\n",
      "Presidential Forum: Gore and Bush Offer Their Views on Science\n",
      "Infectious History\n",
      "Positional Syntenic Cloning and Functional Characterization of the Mammalian Circadian Mutation tau\n",
      "Comparative Genomics of the Eukaryotes\n",
      "Status and Improvements of Coupled General Circulation Models\n",
      "Meltdown on Long Island\n",
      "\n",
      "cluster 7:\n",
      "Inhibition of Experimental Liver Cirrhosis in Mice by Telomerase Gene Delivery\n",
      "Translating Stem and Progenitor Cell Biology to the Clinic: Barriers and Opportunities\n",
      "Function of PI3Kg in Thymocyte Development, T Cell Activation, and Neutrophil Migration\n",
      "An Oral Vaccine against NMDAR1 with Efficacy in Experimental Stroke and Epilepsy\n",
      "Central Role for G Protein-Coupled Phosphoinositide 3-Kinase g in Inflammation\n",
      "Requirement for RORg in Thymocyte Survival and Lymphoid Organ Development\n",
      "Therapeutic Approaches to Bone Diseases\n",
      "Mammalian Neural Stem Cells\n",
      "Prostaglandin <latex>$D_2$</latex> as a Mediator of Allergic Asthma\n",
      "Bone Resorption by Osteoclasts\n",
      "\n",
      "cluster 8:\n",
      "Help Needed to Rebuild Science in Yugoslavia\n",
      "Atom-Scale Research Gets Real\n",
      "A Mouse Chronology\n",
      "Meltdown on Long Island\n",
      "Silent No Longer: 'Model Minority' Mobilizes\n",
      "I'd like to See America Used as a Global Lab\n",
      "Clones: A Hard Act to Follow\n",
      "Ecologists on a Mission to Save the World\n",
      "Soft Money's Hard Realities\n",
      "Lee's Special Status Fuels Academy's Rising Reputation\n",
      "\n"
     ]
    }
   ],
   "source": [
    "for i in range(kmeans_k):\n",
    "    doc_dis = abs(kmeans.cluster_centers_[i] - vector_mean)\n",
    "    sorted_args = doc_dis.argsort()[::-1]\n",
    "    top_10_args = sorted_args[:10]\n",
    "    top_10_titles = titles['titles'][top_10_args].values.tolist()\n",
    "    print 'cluster %d:' % i\n",
    "    print '\\n'.join(top_10_titles)\n",
    "    print ''"
   ]
  },
  {
   "cell_type": "markdown",
   "metadata": {},
   "source": [
    "## Top 10 words closest to each cluster center"
   ]
  },
  {
   "cell_type": "code",
   "execution_count": 282,
   "metadata": {},
   "outputs": [],
   "source": [
    "grouped_words = vocab.groupby('kmeans_label')"
   ]
  },
  {
   "cell_type": "code",
   "execution_count": 283,
   "metadata": {},
   "outputs": [
    {
     "name": "stderr",
     "output_type": "stream",
     "text": [
      "/anaconda2/lib/python2.7/site-packages/ipykernel_launcher.py:3: SettingWithCopyWarning: \n",
      "A value is trying to be set on a copy of a slice from a DataFrame.\n",
      "Try using .loc[row_indexer,col_indexer] = value instead\n",
      "\n",
      "See the caveats in the documentation: http://pandas.pydata.org/pandas-docs/stable/indexing.html#indexing-view-versus-copy\n",
      "  This is separate from the ipykernel package so we can avoid doing imports until\n"
     ]
    },
    {
     "name": "stdout",
     "output_type": "stream",
     "text": [
      "cluster 0:\n",
      "kinase\n",
      "promoter\n",
      "polymerase\n",
      "staining\n",
      "pcr\n",
      "mrna\n",
      "vivo\n",
      "regulated\n",
      "assay\n",
      "signaling\n",
      "\n",
      "cluster 1:\n",
      "decadal\n",
      "holocene\n",
      "anomaly\n",
      "sst\n",
      "basins\n",
      "tropics\n",
      "equator\n",
      "sedimentary\n",
      "lunar\n",
      "silicate\n",
      "\n",
      "cluster 2:\n",
      "resonant\n",
      "anisotropic\n",
      "fermi\n",
      "crystallographic\n",
      "reflections\n",
      "tunneling\n",
      "metallic\n",
      "lying\n",
      "transverse\n",
      "incident\n",
      "\n",
      "cluster 3:\n",
      "triton\n",
      "methionine\n",
      "glutathione\n",
      "agarose\n",
      "isoforms\n",
      "glycerol\n",
      "histidine\n",
      "cys\n",
      "subcellular\n",
      "glycine\n",
      "\n",
      "cluster 4:\n",
      "celera\n",
      "intelligence\n",
      "managers\n",
      "income\n",
      "schools\n",
      "math\n",
      "weapons\n",
      "capital\n",
      "court\n",
      "draft\n",
      "\n",
      "cluster 5:\n",
      "start\n",
      "gray\n",
      "decrease\n",
      "error\n",
      "peak\n",
      "res\n",
      "magnitude\n",
      "fraction\n",
      "rev\n",
      "maximum\n",
      "\n",
      "cluster 6:\n",
      "aptamers\n",
      "lcts\n",
      "dnag\n",
      "trxr\n",
      "neas\n",
      "doxy\n",
      "proteorhodopsin\n",
      "lg268\n",
      "nompc\n",
      "rory\n",
      "\n",
      "cluster 7:\n",
      "lymphoid\n",
      "immunoreactivity\n",
      "injury\n",
      "transplantation\n",
      "cd8\n",
      "abnormalities\n",
      "littermates\n",
      "hematopoietic\n",
      "systemic\n",
      "inflammatory\n",
      "\n",
      "cluster 8:\n",
      "researcher\n",
      "didnt\n",
      "doesnt\n",
      "hopes\n",
      "got\n",
      "plans\n",
      "getting\n",
      "biologist\n",
      "cant\n",
      "theres\n",
      "\n"
     ]
    }
   ],
   "source": [
    "for i in range(kmeans_k):\n",
    "    cur_group = grouped_words.get_group(i)\n",
    "    cur_group['distance'] = cur_group.apply(lambda row: np.linalg.norm(word_doc[row.name] - kmeans.cluster_centers_[i]), axis=1)\n",
    "    sorted_args = np.array(cur_group['distance'].values.tolist()).argsort()\n",
    "    print 'cluster %d:' % i\n",
    "    print '\\n'.join(cur_group.iloc[sorted_args[:10]]['vocab'].tolist())\n",
    "    print ''"
   ]
  }
 ],
 "metadata": {
  "kernelspec": {
   "display_name": "Python 2",
   "language": "python",
   "name": "python2"
  },
  "language_info": {
   "codemirror_mode": {
    "name": "ipython",
    "version": 2
   },
   "file_extension": ".py",
   "mimetype": "text/x-python",
   "name": "python",
   "nbconvert_exporter": "python",
   "pygments_lexer": "ipython2",
   "version": "2.7.15"
  }
 },
 "nbformat": 4,
 "nbformat_minor": 2
}
