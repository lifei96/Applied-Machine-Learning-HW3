{
 "cells": [
  {
   "cell_type": "code",
   "execution_count": 1,
   "metadata": {},
   "outputs": [],
   "source": [
    "import numpy as np"
   ]
  },
  {
   "cell_type": "code",
   "execution_count": 4,
   "metadata": {},
   "outputs": [],
   "source": [
    "doc_word = np.load('science2k-doc-word.npy')"
   ]
  },
  {
   "cell_type": "code",
   "execution_count": 8,
   "metadata": {},
   "outputs": [
    {
     "name": "stdout",
     "output_type": "stream",
     "text": [
      "[[-0.2521619 -0.2521619  9.36371   ... -0.2521619 -0.2521619 -0.2521619]\n",
      " [-0.2875293 -0.2875293  8.229864  ... -0.2875293 -0.2875293 -0.2875293]\n",
      " [-0.3634041 -0.3634041  9.252468  ... -0.3634041 -0.3634041 -0.3634041]\n",
      " ...\n",
      " [10.04846   -0.7713402  9.132197  ... -0.7713402 -0.7713402 -0.7713402]\n",
      " [11.00702   -0.8423803 10.38288   ... -0.8423803 -0.8423803 -0.8423803]\n",
      " [ 9.710337  -0.7527946  9.556191  ... -0.7527946 -0.7527946 -0.7527946]]\n"
     ]
    }
   ],
   "source": [
    "print doc_word"
   ]
  },
  {
   "cell_type": "code",
   "execution_count": 20,
   "metadata": {},
   "outputs": [
    {
     "name": "stdout",
     "output_type": "stream",
     "text": [
      "2.308974294870306\n"
     ]
    }
   ],
   "source": [
    "print np.std(doc_word[56])"
   ]
  },
  {
   "cell_type": "code",
   "execution_count": null,
   "metadata": {},
   "outputs": [],
   "source": []
  }
 ],
 "metadata": {
  "kernelspec": {
   "display_name": "Python 2",
   "language": "python",
   "name": "python2"
  },
  "language_info": {
   "codemirror_mode": {
    "name": "ipython",
    "version": 2
   },
   "file_extension": ".py",
   "mimetype": "text/x-python",
   "name": "python",
   "nbconvert_exporter": "python",
   "pygments_lexer": "ipython2",
   "version": "2.7.15"
  }
 },
 "nbformat": 4,
 "nbformat_minor": 2
}
